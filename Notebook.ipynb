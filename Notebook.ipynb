{
  "cells": [
    {
      "cell_type": "markdown",
      "metadata": {
        "id": "view-in-github",
        "colab_type": "text"
      },
      "source": [
        "<a href=\"https://colab.research.google.com/github/chunyinlo/ISYS5002-Assigment2/blob/main/Notebook.ipynb\" target=\"_parent\"><img src=\"https://colab.research.google.com/assets/colab-badge.svg\" alt=\"Open In Colab\"/></a>"
      ]
    },
    {
      "cell_type": "markdown",
      "id": "72e78a05",
      "metadata": {
        "id": "72e78a05"
      },
      "source": [
        "# 🌦️ WeatherWise\n",
        "\n",
        "\n"
      ]
    },
    {
      "cell_type": "markdown",
      "id": "fa8c7f6c",
      "metadata": {
        "id": "fa8c7f6c"
      },
      "source": [
        "## 🧰 Setup and Imports\n"
      ]
    },
    {
      "cell_type": "code",
      "execution_count": 14,
      "id": "70c3f3f1",
      "metadata": {
        "id": "70c3f3f1"
      },
      "outputs": [],
      "source": [
        "\n",
        "%pip install ipywidgets --quiet\n"
      ]
    },
    {
      "cell_type": "markdown",
      "id": "59ae7543",
      "metadata": {
        "id": "59ae7543"
      },
      "source": [
        "## 📦 Setup and Configuration\n",
        "Import required packages and setup environment."
      ]
    },
    {
      "cell_type": "code",
      "execution_count": 15,
      "id": "f1dd051e",
      "metadata": {
        "id": "f1dd051e"
      },
      "outputs": [],
      "source": [
        "# Using wttr.in (no AI API / no scaffold package needed)\n",
        "import requests, json, re\n",
        "from datetime import datetime\n",
        "import matplotlib.pyplot as plt\n",
        "# from fetch_my_weather import get_weather      # not used\n",
        "# from hands_on_ai.chat import get_response     # not used\n",
        "# import pyinputplus as pyip            # not used\n"
      ]
    },
    {
      "cell_type": "markdown",
      "id": "f736ade3",
      "metadata": {
        "id": "f736ade3"
      },
      "source": [
        "## 🌤️ Weather Data Functions"
      ]
    },
    {
      "cell_type": "code",
      "execution_count": 16,
      "id": "7a2c7cd0",
      "metadata": {
        "id": "7a2c7cd0"
      },
      "outputs": [],
      "source": [
        "def get_weather_data(location, forecast_days=3):\n",
        "    \"\"\"\n",
        "    Fetch weather JSON from wttr.in for a given location.\n",
        "\n",
        "    Args:\n",
        "        location (str): City or place name, e.g. \"Perth\".\n",
        "        forecast_days (int): Number of days to include (1–5; wttr.in typically ~3).\n",
        "\n",
        "    Returns:\n",
        "        dict: {\"location\": str, \"current\": {...}, \"days\": [ {maxtempC, mintempC, hourly:[...]} ] }\n",
        "    \"\"\"\n",
        "    if not isinstance(location, str) or not location.strip():\n",
        "        raise ValueError(\"Location must be a non-empty string.\")\n",
        "\n",
        "    qloc = location.strip().replace(\" \", \"+\")\n",
        "    url = f\"https://wttr.in/{qloc}?format=j1\"\n",
        "\n",
        "    try:\n",
        "        r = requests.get(url, timeout=10)\n",
        "        r.raise_for_status()\n",
        "        data = r.json()\n",
        "    except requests.RequestException as e:\n",
        "        raise RuntimeError(f\"Network/HTTP error: {e}\") from e\n",
        "    except json.JSONDecodeError:\n",
        "        raise RuntimeError(\"Invalid JSON from wttr.in\")\n",
        "\n",
        "    # Keep 1..5 days as per the template\n",
        "    days = data.get(\"weather\", [])[:max(1, min(int(forecast_days or 1), 5))]\n",
        "    current = (data.get(\"current_condition\") or [{}])[0]\n",
        "\n",
        "    return {\"location\": location.strip(), \"current\": current, \"days\": days}"
      ]
    },
    {
      "cell_type": "markdown",
      "id": "8a744fdc",
      "metadata": {
        "id": "8a744fdc"
      },
      "source": [
        "## 📊 Visualisation Functions"
      ]
    },
    {
      "cell_type": "code",
      "execution_count": 17,
      "id": "9dc3bf85",
      "metadata": {
        "id": "9dc3bf85"
      },
      "outputs": [],
      "source": [
        "def create_temperature_visualisation(weather_data, output_type='display'):\n",
        "    \"\"\"\n",
        "     Compose a short answer using parsed intent and fetched weather.\n",
        "\n",
        "    Args:\n",
        "        parsed_question (dict): Output of parse_weather_question().\n",
        "        weather_data (dict): Output of get_weather_data().\n",
        "\n",
        "    Returns:\n",
        "        str: Human-readable reply (e.g., \"Yes, light rain expected tomorrow in Perth.\").\n",
        "    \"\"\"\n",
        "    days = weather_data.get(\"days\", []) or []\n",
        "    if not days:\n",
        "          raise ValueError(\"No forecast days in weather_data\")\n",
        "\n",
        "    xs, tmax, tmin = [], [], []\n",
        "    for i, d in enumerate(days):\n",
        "        xs.append(f\"D{i+1}\")\n",
        "        tmax.append(float(d.get(\"maxtempC\", 0.0)))\n",
        "        tmin.append(float(d.get(\"mintempC\", 0.0)))\n",
        "\n",
        "    fig, ax = plt.subplots()\n",
        "    ax.plot(xs, tmax, label=\"Max °C\")\n",
        "    ax.plot(xs, tmin, label=\"Min °C\")\n",
        "    ax.set_title(\"Temperature Trend – \" + str(weather_data.get(\"location\",\"\")))\n",
        "    ax.set_xlabel(\"Day\")\n",
        "    ax.set_ylabel(\"°C\")\n",
        "    ax.legend()\n",
        "\n",
        "    if output_type == \"figure\":\n",
        "        return fig\n",
        "    plt.show()\n",
        "    return None\n",
        "\n"
      ]
    },
    {
      "cell_type": "code",
      "source": [
        "def create_precipitation_visualisation(weather_data, output_type='display', method=\"mean24\"):\n",
        "    \"\"\"\n",
        "    Visualise daily precipitation (approx).\n",
        "\n",
        "    Args:\n",
        "        weather_data (dict): Data with \"days\" and per-day \"hourly\" precipMM.\n",
        "        output_type (str): 'display' | 'figure'.\n",
        "        method (str): 'mean8' | 'mean24' | 'sum' for hourly precip aggregation.\n",
        "\n",
        "    Returns:\n",
        "        Optional[Figure]: Figure when output_type='figure'; otherwise None.\n",
        "    \"\"\"\n",
        "    days = weather_data.get(\"days\", [])\n",
        "    if not days:\n",
        "        raise ValueError(\"No forecast days in weather_data\")\n",
        "\n",
        "    def daily_precip_mm(day, method=\"mean24\"):\n",
        "      hourly = day.get(\"hourly\", []) or []\n",
        "      vals = []\n",
        "      hours = hourly[:8] if method == \"mean8\" else hourly\n",
        "      for h in hours:\n",
        "        try:\n",
        "            vals.append(float(h.get(\"precipMM\", 0.0)))\n",
        "        except:\n",
        "            pass\n",
        "      if not vals:\n",
        "        return 0.0\n",
        "      if method == \"sum\":\n",
        "        return sum(vals)\n",
        "      return sum(vals) / float(len(vals))\n",
        "\n",
        "    xs, rains = [], []\n",
        "    for i, d in enumerate(days):\n",
        "        xs.append(f\"D{i+1}\")\n",
        "        # requires daily_precip_mm(day, method) defined in previous cell\n",
        "        mm = daily_precip_mm(d, method=method)\n",
        "        rains.append(mm)\n",
        "\n",
        "    fig, ax = plt.subplots()\n",
        "    ax.bar(xs, rains)\n",
        "    ax.set_title(f\"Precipitation (approx) – {weather_data.get('location','')}\")\n",
        "    ax.set_xlabel(\"Day\"); ax.set_ylabel(\"mm\")\n",
        "\n",
        "    if output_type == \"figure\":\n",
        "        return fig\n",
        "    plt.show()\n",
        "    return None\n",
        "\n"
      ],
      "metadata": {
        "id": "HpOlQylYG5Ho"
      },
      "id": "HpOlQylYG5Ho",
      "execution_count": 18,
      "outputs": []
    },
    {
      "cell_type": "markdown",
      "id": "9f95d160",
      "metadata": {
        "id": "9f95d160"
      },
      "source": [
        "## 🤖 Natural Language Processing"
      ]
    },
    {
      "cell_type": "code",
      "execution_count": 19,
      "id": "bcc5833e",
      "metadata": {
        "id": "bcc5833e"
      },
      "outputs": [],
      "source": [
        "def parse_weather_question(question):\n",
        "    \"\"\"\n",
        "    Extract intent from a natural-language question.\n",
        "\n",
        "    Args:\n",
        "        question (str): e.g. \"Will it rain in Perth tomorrow?\"\n",
        "\n",
        "    Returns:\n",
        "        dict: {\"location\": Optional[str], \"attribute\": \"temp|rain|wind\", \"day_index\": int(0..2)}\n",
        "    \"\"\"\n",
        "    import re\n",
        "    q = (question or \"\").lower().strip()\n",
        "\n",
        "    # location: 'in <place>' or '@<place>'\n",
        "    loc = None\n",
        "    m = re.search(r\"(in|@)\\s+([a-z\\- \\t]+)\", q)\n",
        "    if m:\n",
        "        loc = m.group(2).strip()\n",
        "\n",
        "    # attribute (intent)\n",
        "    if (\"rain\" in q) or (\"umbrella\" in q) or (\"precip\" in q) or (\"wet\" in q):\n",
        "        attr = \"rain\"\n",
        "    elif (\"wind\" in q) or (\"windy\" in q) or (\"gust\" in q):\n",
        "        attr = \"wind\"\n",
        "    else:\n",
        "        attr = \"temp\"\n",
        "\n",
        "    # time period → day_index: 0=today, 1=tomorrow, 2=day-after\n",
        "    if (\"day after\" in q) or (\"d3\" in q) or (\"in two days\" in q):\n",
        "        day_idx = 2\n",
        "    elif (\"tomorrow\" in q) or (\"d2\" in q):\n",
        "        day_idx = 1\n",
        "    else:\n",
        "        day_idx = 0\n",
        "\n",
        "    return {\"location\": loc, \"attribute\": attr, \"day_index\": day_idx}\n"
      ]
    },
    {
      "cell_type": "markdown",
      "id": "0d85225e",
      "metadata": {
        "id": "0d85225e"
      },
      "source": [
        "## 🧭 User Interface"
      ]
    },
    {
      "cell_type": "code",
      "execution_count": 20,
      "id": "fa6cb0f6",
      "metadata": {
        "id": "fa6cb0f6"
      },
      "outputs": [],
      "source": [
        "try:\n",
        "    import ipywidgets as widgets\n",
        "    from IPython.display import display, clear_output\n",
        "except Exception:\n",
        "    %pip install ipywidgets --quiet\n",
        "    import ipywidgets as widgets\n",
        "    from IPython.display import display, clear_output\n",
        "\n",
        "def _clean_location(raw):\n",
        "    if not raw:\n",
        "        return raw\n",
        "    stop = {\"today\",\"tomorrow\",\"tonight\",\"day\",\"after\",\"weekend\",\"week\",\"d2\",\"d3\"}\n",
        "    parts = str(raw).lower().strip().split()\n",
        "    kept = []\n",
        "    for w in parts:\n",
        "        if w in stop:\n",
        "            break\n",
        "        kept.append(w)\n",
        "    return \" \".join(kept).strip().title()\n",
        "\n",
        "def _check_core():\n",
        "    missing = [name for name in [\n",
        "        \"get_weather_data\",\n",
        "        \"create_temperature_visualisation\",\n",
        "        \"create_precipitation_visualisation\",\n",
        "        \"parse_weather_question\",\n",
        "        \"generate_weather_response\",\n",
        "    ] if name not in globals()]\n",
        "    if missing:\n",
        "        raise RuntimeError(\"Please run the cells that define these functions first: \"\n",
        "                           + \", \".join(missing))\n",
        "\n",
        "loc_w    = widgets.Text(value=\"Perth\", description=\"Location:\")\n",
        "days_w   = widgets.IntSlider(value=3, min=1, max=5, step=1, description=\"Days:\")\n",
        "method_w = widgets.Dropdown(options=[\"mean24\",\"mean8\",\"sum\"], value=\"mean24\",\n",
        "                            description=\"Rain & calc:\")\n",
        "run_btn  = widgets.Button(description=\"Fetch & Plot\", button_style=\"primary\")\n",
        "\n",
        "q_w      = widgets.Text(value=\"Will it rain in Perth tomorrow?\", description=\"Question:\")\n",
        "ask_btn  = widgets.Button(description=\"Ask\")\n",
        "\n",
        "out = widgets.Output()\n",
        "\n",
        "def on_run_clicked(_):\n",
        "    with out:\n",
        "        clear_output()\n",
        "        try:\n",
        "            _check_core()\n",
        "            loc = _clean_location(loc_w.value) or \"Perth\"\n",
        "            wd = get_weather_data(loc, forecast_days=days_w.value)\n",
        "            print(f\"Fetched {len(wd.get('days', []))} day(s) for {wd.get('location')}\")\n",
        "            create_temperature_visualisation(wd)\n",
        "            create_precipitation_visualisation(wd, method=method_w.value)\n",
        "        except Exception as e:\n",
        "            print(\"Error:\", e)\n",
        "\n",
        "def on_ask_clicked(_):\n",
        "    with out:\n",
        "        try:\n",
        "            _check_core()\n",
        "            parsed = parse_weather_question(q_w.value)\n",
        "            if parsed.get(\"location\"):\n",
        "                parsed[\"location\"] = _clean_location(parsed[\"location\"]) or _clean_location(loc_w.value) or \"Perth\"\n",
        "            else:\n",
        "                parsed[\"location\"] = _clean_location(loc_w.value) or \"Perth\"\n",
        "\n",
        "            wd = get_weather_data(parsed[\"location\"], forecast_days=days_w.value)\n",
        "            print(generate_weather_response(parsed, wd))\n",
        "        except Exception as e:\n",
        "            print(\"Error:\", e)\n",
        "\n",
        "run_btn.on_click(on_run_clicked)\n",
        "ask_btn.on_click(on_ask_clicked)\n",
        "\n",
        "ui = widgets.VBox([\n",
        "    widgets.HBox([loc_w, days_w, method_w, run_btn]),\n",
        "    widgets.HBox([q_w, ask_btn]),\n",
        "    out\n",
        "])\n"
      ]
    },
    {
      "cell_type": "markdown",
      "id": "d643a53c",
      "metadata": {
        "id": "d643a53c"
      },
      "source": [
        "## 🧩 Main Application Logic"
      ]
    },
    {
      "cell_type": "code",
      "execution_count": 21,
      "id": "a9e2e805",
      "metadata": {
        "id": "a9e2e805"
      },
      "outputs": [],
      "source": [
        "def generate_weather_response(parsed_question, weather_data):\n",
        "    \"\"\"\n",
        "    Compose a short answer using parsed intent and fetched weather.\n",
        "\n",
        "    Args:\n",
        "        parsed_question (dict): Output of parse_weather_question().\n",
        "        weather_data (dict): Output of get_weather_data().\n",
        "\n",
        "    Returns:\n",
        "        str: Human-readable reply (e.g., \"Yes, light rain expected tomorrow in Perth.\").\n",
        "    \"\"\"\n",
        "def generate_weather_response(parsed_question, weather_data):\n",
        "    day_idx = int(parsed_question.get(\"day_index\", 0))\n",
        "    days = weather_data.get(\"days\", []) or []\n",
        "    if not days:\n",
        "        return \"I couldn't retrieve the forecast.\"\n",
        "    if day_idx >= len(days):\n",
        "        day_idx = 0\n",
        "\n",
        "    d = days[day_idx]\n",
        "    loc = weather_data.get(\"location\", \"your location\")\n",
        "    attr = parsed_question.get(\"attribute\", \"temp\")\n",
        "\n",
        "    if attr == \"rain\":\n",
        "        hourly = d.get(\"hourly\", []) or []\n",
        "        precip = 0.0\n",
        "        if hourly:\n",
        "            try:\n",
        "                precip = float(hourly[0].get(\"precipMM\", 0.0))\n",
        "            except:\n",
        "                precip = 0.0\n",
        "        tip = \"Bring an umbrella.\" if precip >= 1.0 else \"Unlikely to rain much.\"\n",
        "        return f\"In {loc} on D{day_idx+1}, expected precipitation ~{precip:.1f} mm. {tip}\"\n",
        "\n",
        "    if attr == \"wind\":\n",
        "        hourly = d.get(\"hourly\", []) or []\n",
        "        wind = hourly[0].get(\"windspeedKmph\", \"NA\") if hourly else \"NA\"\n",
        "        return f\"In {loc} on D{day_idx+1}, typical wind speed ~{wind} km/h.\"\n",
        "\n",
        "    # default: temperature\n",
        "    tmax = d.get(\"maxtempC\", \"NA\")\n",
        "    tmin = d.get(\"mintempC\", \"NA\")\n",
        "    return f\"In {loc} on D{day_idx+1}, temperature ranges from {tmin}°C to {tmax}°C.\"\n"
      ]
    },
    {
      "cell_type": "markdown",
      "id": "fde44479",
      "metadata": {
        "id": "fde44479"
      },
      "source": [
        "## 🧪 Testing and Examples"
      ]
    },
    {
      "cell_type": "code",
      "execution_count": 22,
      "id": "4e573901",
      "metadata": {
        "id": "4e573901",
        "outputId": "337ad5b8-c055-4eb9-80b7-fc973f43491e",
        "colab": {
          "base_uri": "https://localhost:8080/",
          "height": 1000,
          "referenced_widgets": [
            "0afc3a7d5d2f423aae47c21f28b2ade9",
            "f6a72d265af94aefaa7b6573c713e7e5",
            "325aa4887ca141fdb6700bdf691975c6",
            "1ef1ba7a6ec244e699babab9dd0d1643",
            "5489ae35ef13494389c280ad858482f8",
            "4568d9f8a37348b3b2bd72b6e6dbeb62",
            "6765e24060b5444fa53bb06966aa378e",
            "003bbe7efbcb4c16b5a245f5f81853fa",
            "7c6124b57b1b458c9a4c55b00144460e",
            "2e5c78a858cc4e9e959fcaed4442dd73",
            "f18cb06208384f76921c4f9cce1a193c",
            "59835c6f579a4409bf6597dffa78b360",
            "72ce0c85d19a48729ab4ef6a4abca1e1",
            "0137a95633254a67a41ca097778eadb6",
            "7f7a50db41924dbdb84686a78f20b443",
            "4d1fd6547beb43cd8dea624fb3d697cf",
            "df22e32363094231892e1496fad06a13",
            "5089537edb534e07ac530dde12fd26ff",
            "e67aa9f93c534d8f9356cee982f0e212",
            "438cf0dfbaf542fa8dafc916f183635b",
            "661895920999472faf6e993dc9bc626c",
            "78210e2a5c43472eab444152ab520e6c",
            "d07eefb24e30440eb4d32d4455a919e8",
            "041739356b024d13b03bbfc8ac75540d",
            "79249775d42642c4b402ca062c8f5ad2",
            "1834f27bb7e946a49122072c50fd7080"
          ]
        }
      },
      "outputs": [
        {
          "output_type": "display_data",
          "data": {
            "text/plain": [
              "VBox(children=(HBox(children=(Text(value='Perth', description='Location:'), IntSlider(value=3, description='Da…"
            ],
            "application/vnd.jupyter.widget-view+json": {
              "version_major": 2,
              "version_minor": 0,
              "model_id": "0afc3a7d5d2f423aae47c21f28b2ade9"
            }
          },
          "metadata": {}
        },
        {
          "output_type": "stream",
          "name": "stdout",
          "text": [
            "[fetch] dict_keys(['location', 'current', 'days']) days= 3\n",
            "\n",
            "[parse] What's the temperature in Perth today? -> {'location': 'perth today', 'attribute': 'temp', 'day_index': 0}\n",
            "[resp]  In Perth on D1, temperature ranges from 16°C to 18°C.\n",
            "\n",
            "[parse] Will it rain in Perth tomorrow? -> {'location': 'in perth tomorrow', 'attribute': 'rain', 'day_index': 1}\n",
            "[resp]  In Perth on D2, expected precipitation ~0.0 mm. Unlikely to rain much.\n",
            "\n",
            "[parse] How windy in Perth the day after? -> {'location': 'perth the day after', 'attribute': 'wind', 'day_index': 2}\n",
            "[resp]  In Perth on D3, typical wind speed ~10 km/h.\n"
          ]
        },
        {
          "output_type": "display_data",
          "data": {
            "text/plain": [
              "<Figure size 640x480 with 1 Axes>"
            ],
            "image/png": "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\n"
          },
          "metadata": {}
        },
        {
          "output_type": "display_data",
          "data": {
            "text/plain": [
              "<Figure size 640x480 with 1 Axes>"
            ],
            "image/png": "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\n"
          },
          "metadata": {}
        },
        {
          "output_type": "stream",
          "name": "stdout",
          "text": [
            "[ok] figure-return contract verified\n"
          ]
        }
      ],
      "source": [
        "display(ui)\n",
        "\n",
        "# 1 Data fetch\n",
        "loc, days = \"Perth\", 3\n",
        "wd = get_weather_data(loc, forecast_days=days)\n",
        "print(\"[fetch]\", wd.keys(), \"days=\", len(wd.get(\"days\", [])))\n",
        "\n",
        "# 2 NLP parsing + response\n",
        "questions = [\n",
        "    \"What's the temperature in Perth today?\",\n",
        "    \"Will it rain in Perth tomorrow?\",\n",
        "    \"How windy in Perth the day after?\"\n",
        "]\n",
        "for q in questions:\n",
        "    pq = parse_weather_question(q)\n",
        "    print(\"\\n[parse]\", q, \"->\", pq)\n",
        "    ans = generate_weather_response(pq, wd)\n",
        "    print(\"[resp] \", ans)\n",
        "\n",
        "# 3 Visualisations (display mode)\n",
        "_ = create_temperature_visualisation(wd, output_type=\"display\")\n",
        "_ = create_precipitation_visualisation(wd, output_type=\"display\", method=\"mean24\")\n",
        "\n",
        "# 4 Visualisations (figure return contract)\n",
        "fig_t = create_temperature_visualisation(wd, output_type=\"figure\")\n",
        "fig_p = create_precipitation_visualisation(wd, output_type=\"figure\", method=\"mean8\")\n",
        "assert fig_t is not None and fig_p is not None\n",
        "import matplotlib.pyplot as plt\n",
        "plt.close(fig_t); plt.close(fig_p)\n",
        "print(\"[ok] figure-return contract verified\")"
      ]
    },
    {
      "cell_type": "markdown",
      "id": "d2885880",
      "metadata": {
        "id": "d2885880"
      },
      "source": [
        "## 🗂️ AI Prompting Log\n",
        "Full conversations are stored in the `ai-conversations/` folder.\n",
        "\n",
        "## Links to conversations\n",
        "- Conversation 1 – Implementation options  \n",
        "  - [ai-conversations/conversation1.txt](ai-conversations/conversation1.txt)\n",
        "- Conversation 2 – Function I/O contracts and data model  \n",
        "  - [ai-conversations/conversation2.txt](ai-conversations/conversation2.txt)\n",
        "- Conversation 3 – Pseudocode-first → precipitation chart  \n",
        "  - [ai-conversations/conversation3.txt](ai-conversations/conversation3.txt)\n",
        "- Conversation 4 – Edge cases & debugging (NameError, 404 fix)  \n",
        "  - [ai-conversations/conversation4.txt](ai-conversations/conversation4.txt)\n",
        "- Conversation 5 – Modular helper & design trade-offs  \n",
        "  - [ai-conversations/conversation5.txt](ai-conversations/conversation5.txt)\n",
        "\n",
        "Full conversations are stored in the `before-after/` folder.\n",
        "## Links to file\n",
        "– Precipitation approximation\n",
        " - [before-after/Precipitation approximation.md](before-after/Precipitation%20approximation.md)\n",
        "\n",
        "– NLP location parsing (404 fix)\n",
        "  - [before-after/NLP location parsing (404 fix).md](before-after/NLP%20location%20parsing%20(404%20fix).md)\n",
        "  \n",
        "– Temperature chart polish\n",
        "  - [before-after/Temperature chart polishing.md](before-after/Temperature%20chart%20polishing.md)\n",
        "\n",
        "**See also:** [PROMPTING.md](PROMPTING.md) — summary of prompting techniques with links and Trace lines.\n"
      ]
    }
  ],
  "metadata": {
    "language_info": {
      "name": "python"
    },
    "colab": {
      "provenance": [],
      "toc_visible": true,
      "include_colab_link": true
    },
    "kernelspec": {
      "name": "python3",
      "display_name": "Python 3"
    },
    
  },
  "nbformat": 4,
  "nbformat_minor": 5
}
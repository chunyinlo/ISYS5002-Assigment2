{
  "cells": [
    {
      "cell_type": "markdown",
      "metadata": {
        "id": "view-in-github",
        "colab_type": "text"
      },
      "source": [
        "<a href=\"https://colab.research.google.com/github/chunyinlo/ISYS5002-Assigment2/blob/main/Notebook.ipynb\" target=\"_parent\"><img src=\"https://colab.research.google.com/assets/colab-badge.svg\" alt=\"Open In Colab\"/></a>"
      ]
    },
    {
      "cell_type": "markdown",
      "id": "72e78a05",
      "metadata": {
        "id": "72e78a05"
      },
      "source": [
        "# 🌦️ WeatherWise\n",
        "\n",
        "\n"
      ]
    },
    {
      "cell_type": "markdown",
      "id": "fa8c7f6c",
      "metadata": {
        "id": "fa8c7f6c"
      },
      "source": [
        "## 🧰 Setup and Imports\n"
      ]
    },
    {
      "cell_type": "code",
      "execution_count": null,
      "id": "70c3f3f1",
      "metadata": {
        "id": "70c3f3f1"
      },
      "outputs": [],
      "source": [
        "\n",
        "%pip install ipywidgets --quiet\n"
      ]
    },
    {
      "cell_type": "markdown",
      "id": "59ae7543",
      "metadata": {
        "id": "59ae7543"
      },
      "source": [
        "## 📦 Setup and Configuration\n",
        "Import required packages and setup environment."
      ]
    },
    {
      "cell_type": "code",
      "execution_count": null,
      "id": "f1dd051e",
      "metadata": {
        "id": "f1dd051e"
      },
      "outputs": [],
      "source": [
        "# Using wttr.in (no AI API / no scaffold package needed)\n",
        "import requests, json, re\n",
        "from datetime import datetime\n",
        "import matplotlib.pyplot as plt\n",
        "# from fetch_my_weather import get_weather      # not used\n",
        "# from hands_on_ai.chat import get_response     # not used\n",
        "# import pyinputplus as pyip            # not used\n"
      ]
    },
    {
      "cell_type": "markdown",
      "id": "f736ade3",
      "metadata": {
        "id": "f736ade3"
      },
      "source": [
        "## 🌤️ Weather Data Functions"
      ]
    },
    {
      "cell_type": "code",
      "execution_count": null,
      "id": "7a2c7cd0",
      "metadata": {
        "id": "7a2c7cd0"
      },
      "outputs": [],
      "source": [
        "# Define get_weather_data() function here\n",
        "def get_weather_data(location, forecast_days=5):\n",
        "    \"\"\"\n",
        "    Retrieve weather data for a specified location.\n",
        "\n",
        "    Args:\n",
        "        location (str): City or location name\n",
        "        forecast_days (int): Number of days to forecast (1-5)\n",
        "\n",
        "    Returns:\n",
        "        dict: Weather data including current conditions and forecast\n",
        "    \"\"\"\n",
        "    if not isinstance(location, str) or not location.strip():\n",
        "        raise ValueError(\"Location must be a non-empty string.\")\n",
        "\n",
        "    qloc = location.strip().replace(\" \", \"+\")\n",
        "    url = f\"https://wttr.in/{qloc}?format=j1\"\n",
        "\n",
        "    try:\n",
        "        r = requests.get(url, timeout=10)\n",
        "        r.raise_for_status()\n",
        "        data = r.json()\n",
        "    except requests.RequestException as e:\n",
        "        raise RuntimeError(f\"Network/HTTP error: {e}\") from e\n",
        "    except json.JSONDecodeError:\n",
        "        raise RuntimeError(\"Invalid JSON from wttr.in\")\n",
        "\n",
        "    # Keep 1..5 days as per the template\n",
        "    days = data.get(\"weather\", [])[:max(1, min(int(forecast_days or 1), 5))]\n",
        "    current = (data.get(\"current_condition\") or [{}])[0]\n",
        "\n",
        "    return {\"location\": location.strip(), \"current\": current, \"days\": days}"
      ]
    },
    {
      "cell_type": "markdown",
      "id": "8a744fdc",
      "metadata": {
        "id": "8a744fdc"
      },
      "source": [
        "## 📊 Visualisation Functions"
      ]
    },
    {
      "cell_type": "code",
      "execution_count": null,
      "id": "9dc3bf85",
      "metadata": {
        "id": "9dc3bf85"
      },
      "outputs": [],
      "source": [
        "# Define create_temperature_visualisation() and create_precipitation_visualisation() here\n",
        "def create_temperature_visualisation(weather_data, output_type='display'):\n",
        "    \"\"\"\n",
        "    Create visualisation of temperature data.\n",
        "\n",
        "    Args:\n",
        "        weather_data (dict): The processed weather data\n",
        "        output_type (str): Either 'display' to show in notebook or 'figure' to return the figure\n",
        "\n",
        "    Returns:\n",
        "        If output_type is 'figure', returns the matplotlib figure object\n",
        "        Otherwise, displays the visualisation in the notebook\n",
        "    \"\"\"\n",
        "    days = weather_data.get(\"days\", []) or []\n",
        "    if not days:\n",
        "          raise ValueError(\"No forecast days in weather_data\")\n",
        "\n",
        "    xs, tmax, tmin = [], [], []\n",
        "    for i, d in enumerate(days):\n",
        "        xs.append(f\"D{i+1}\")\n",
        "        tmax.append(float(d.get(\"maxtempC\", 0.0)))\n",
        "        tmin.append(float(d.get(\"mintempC\", 0.0)))\n",
        "\n",
        "    fig, ax = plt.subplots()\n",
        "    ax.plot(xs, tmax, label=\"Max °C\")\n",
        "    ax.plot(xs, tmin, label=\"Min °C\")\n",
        "    ax.set_title(\"Temperature Trend – \" + str(weather_data.get(\"location\",\"\")))\n",
        "    ax.set_xlabel(\"Day\")\n",
        "    ax.set_ylabel(\"°C\")\n",
        "    ax.legend()\n",
        "\n",
        "    if output_type == \"figure\":\n",
        "        return fig\n",
        "    plt.show()\n",
        "    return None\n",
        "\n"
      ]
    },
    {
      "cell_type": "code",
      "source": [
        "def create_precipitation_visualisation(weather_data, output_type='display', method=\"mean24\"):\n",
        "    \"\"\"\n",
        "    Create visualisation of precipitation data.\n",
        "\n",
        "    Args:\n",
        "        weather_data (dict): The processed weather data\n",
        "        output_type (str): Either 'display' to show in notebook or 'figure' to return the figure\n",
        "\n",
        "    Returns:\n",
        "        If output_type is 'figure', returns the matplotlib figure object\n",
        "        Otherwise, displays the visualisation in the notebook\n",
        "    \"\"\"\n",
        "\n",
        "    \"\"\"\n",
        "    Bar chart of approximate daily precipitation (mm).\n",
        "    method: 'mean8' | 'mean24' | 'sum'  (uses daily_precip_mm helper)\n",
        "    \"\"\"\n",
        "    days = weather_data.get(\"days\", [])\n",
        "    if not days:\n",
        "        raise ValueError(\"No forecast days in weather_data\")\n",
        "\n",
        "    def daily_precip_mm(day, method=\"mean24\"):\n",
        "      hourly = day.get(\"hourly\", []) or []\n",
        "      vals = []\n",
        "      hours = hourly[:8] if method == \"mean8\" else hourly\n",
        "      for h in hours:\n",
        "        try:\n",
        "            vals.append(float(h.get(\"precipMM\", 0.0)))\n",
        "        except:\n",
        "            pass\n",
        "      if not vals:\n",
        "        return 0.0\n",
        "      if method == \"sum\":\n",
        "        return sum(vals)\n",
        "      return sum(vals) / float(len(vals))\n",
        "\n",
        "    xs, rains = [], []\n",
        "    for i, d in enumerate(days):\n",
        "        xs.append(f\"D{i+1}\")\n",
        "        # requires daily_precip_mm(day, method) defined in previous cell\n",
        "        mm = daily_precip_mm(d, method=method)\n",
        "        rains.append(mm)\n",
        "\n",
        "    fig, ax = plt.subplots()\n",
        "    ax.bar(xs, rains)\n",
        "    ax.set_title(f\"Precipitation (approx) – {weather_data.get('location','')}\")\n",
        "    ax.set_xlabel(\"Day\"); ax.set_ylabel(\"mm\")\n",
        "\n",
        "    if output_type == \"figure\":\n",
        "        return fig\n",
        "    plt.show()\n",
        "    return None\n",
        "\n"
      ],
      "metadata": {
        "id": "HpOlQylYG5Ho"
      },
      "id": "HpOlQylYG5Ho",
      "execution_count": null,
      "outputs": []
    },
    {
      "cell_type": "markdown",
      "id": "9f95d160",
      "metadata": {
        "id": "9f95d160"
      },
      "source": [
        "## 🤖 Natural Language Processing"
      ]
    },
    {
      "cell_type": "code",
      "execution_count": null,
      "id": "bcc5833e",
      "metadata": {
        "id": "bcc5833e"
      },
      "outputs": [],
      "source": [
        "# Define parse_weather_question() and generate_weather_response() here\n",
        "\n",
        "def parse_weather_question(question):\n",
        "    \"\"\"\n",
        "    Parse a natural language weather question.\n",
        "\n",
        "    Args:\n",
        "        question (str): User's weather-related question\n",
        "\n",
        "    Returns:\n",
        "        dict: Extracted information including location, time period, and weather attribute\n",
        "    \"\"\"\n",
        "    import re\n",
        "    q = (question or \"\").lower().strip()\n",
        "\n",
        "    # location: 'in <place>' or '@<place>'\n",
        "    loc = None\n",
        "    m = re.search(r\"(in|@)\\s+([a-z\\- \\t]+)\", q)\n",
        "    if m:\n",
        "        loc = m.group(2).strip()\n",
        "\n",
        "    # attribute (intent)\n",
        "    if (\"rain\" in q) or (\"umbrella\" in q) or (\"precip\" in q) or (\"wet\" in q):\n",
        "        attr = \"rain\"\n",
        "    elif (\"wind\" in q) or (\"windy\" in q) or (\"gust\" in q):\n",
        "        attr = \"wind\"\n",
        "    else:\n",
        "        attr = \"temp\"\n",
        "\n",
        "    # time period → day_index: 0=today, 1=tomorrow, 2=day-after\n",
        "    if (\"day after\" in q) or (\"d3\" in q) or (\"in two days\" in q):\n",
        "        day_idx = 2\n",
        "    elif (\"tomorrow\" in q) or (\"d2\" in q):\n",
        "        day_idx = 1\n",
        "    else:\n",
        "        day_idx = 0\n",
        "\n",
        "    return {\"location\": loc, \"attribute\": attr, \"day_index\": day_idx}\n"
      ]
    },
    {
      "cell_type": "markdown",
      "id": "0d85225e",
      "metadata": {
        "id": "0d85225e"
      },
      "source": [
        "## 🧭 User Interface"
      ]
    },
    {
      "cell_type": "code",
      "execution_count": null,
      "id": "fa6cb0f6",
      "metadata": {
        "id": "fa6cb0f6"
      },
      "outputs": [],
      "source": [
        "try:\n",
        "    import ipywidgets as widgets\n",
        "    from IPython.display import display, clear_output\n",
        "except Exception:\n",
        "    %pip install ipywidgets --quiet\n",
        "    import ipywidgets as widgets\n",
        "    from IPython.display import display, clear_output\n",
        "\n",
        "def _clean_location(raw):\n",
        "    if not raw:\n",
        "        return raw\n",
        "    stop = {\"today\",\"tomorrow\",\"tonight\",\"day\",\"after\",\"weekend\",\"week\",\"d2\",\"d3\"}\n",
        "    parts = str(raw).lower().strip().split()\n",
        "    kept = []\n",
        "    for w in parts:\n",
        "        if w in stop:\n",
        "            break\n",
        "        kept.append(w)\n",
        "    return \" \".join(kept).strip().title()\n",
        "\n",
        "def _check_core():\n",
        "    missing = [name for name in [\n",
        "        \"get_weather_data\",\n",
        "        \"create_temperature_visualisation\",\n",
        "        \"create_precipitation_visualisation\",\n",
        "        \"parse_weather_question\",\n",
        "        \"generate_weather_response\",\n",
        "    ] if name not in globals()]\n",
        "    if missing:\n",
        "        raise RuntimeError(\"Please run the cells that define these functions first: \"\n",
        "                           + \", \".join(missing))\n",
        "\n",
        "loc_w    = widgets.Text(value=\"Perth\", description=\"Location:\")\n",
        "days_w   = widgets.IntSlider(value=3, min=1, max=5, step=1, description=\"Days:\")\n",
        "method_w = widgets.Dropdown(options=[\"mean24\",\"mean8\",\"sum\"], value=\"mean24\",\n",
        "                            description=\"Rain & calc:\")\n",
        "run_btn  = widgets.Button(description=\"Fetch & Plot\", button_style=\"primary\")\n",
        "\n",
        "q_w      = widgets.Text(value=\"Will it rain in Perth tomorrow?\", description=\"Question:\")\n",
        "ask_btn  = widgets.Button(description=\"Ask\")\n",
        "\n",
        "out = widgets.Output()\n",
        "\n",
        "def on_run_clicked(_):\n",
        "    with out:\n",
        "        clear_output()\n",
        "        try:\n",
        "            _check_core()\n",
        "            loc = _clean_location(loc_w.value) or \"Perth\"\n",
        "            wd = get_weather_data(loc, forecast_days=days_w.value)\n",
        "            print(f\"Fetched {len(wd.get('days', []))} day(s) for {wd.get('location')}\")\n",
        "            create_temperature_visualisation(wd)\n",
        "            create_precipitation_visualisation(wd, method=method_w.value)\n",
        "        except Exception as e:\n",
        "            print(\"Error:\", e)\n",
        "\n",
        "def on_ask_clicked(_):\n",
        "    with out:\n",
        "        try:\n",
        "            _check_core()\n",
        "            parsed = parse_weather_question(q_w.value)\n",
        "            if parsed.get(\"location\"):\n",
        "                parsed[\"location\"] = _clean_location(parsed[\"location\"]) or _clean_location(loc_w.value) or \"Perth\"\n",
        "            else:\n",
        "                parsed[\"location\"] = _clean_location(loc_w.value) or \"Perth\"\n",
        "\n",
        "            wd = get_weather_data(parsed[\"location\"], forecast_days=days_w.value)\n",
        "            print(generate_weather_response(parsed, wd))\n",
        "        except Exception as e:\n",
        "            print(\"Error:\", e)\n",
        "\n",
        "run_btn.on_click(on_run_clicked)\n",
        "ask_btn.on_click(on_ask_clicked)\n",
        "\n",
        "ui = widgets.VBox([\n",
        "    widgets.HBox([loc_w, days_w, method_w, run_btn]),\n",
        "    widgets.HBox([q_w, ask_btn]),\n",
        "    out\n",
        "])\n"
      ]
    },
    {
      "cell_type": "markdown",
      "id": "d643a53c",
      "metadata": {
        "id": "d643a53c"
      },
      "source": [
        "## 🧩 Main Application Logic"
      ]
    },
    {
      "cell_type": "code",
      "execution_count": null,
      "id": "a9e2e805",
      "metadata": {
        "id": "a9e2e805"
      },
      "outputs": [],
      "source": [
        "# Tie everything together here\n",
        "def generate_weather_response(parsed_question, weather_data):\n",
        "    \"\"\"\n",
        "    Generate a natural language response to a weather question.\n",
        "\n",
        "    Args:\n",
        "        parsed_question (dict): Parsed question data\n",
        "        weather_data (dict): Weather data\n",
        "\n",
        "    Returns:\n",
        "        str: Natural language response\n",
        "    \"\"\"\n",
        "def generate_weather_response(parsed_question, weather_data):\n",
        "    day_idx = int(parsed_question.get(\"day_index\", 0))\n",
        "    days = weather_data.get(\"days\", []) or []\n",
        "    if not days:\n",
        "        return \"I couldn't retrieve the forecast.\"\n",
        "    if day_idx >= len(days):\n",
        "        day_idx = 0\n",
        "\n",
        "    d = days[day_idx]\n",
        "    loc = weather_data.get(\"location\", \"your location\")\n",
        "    attr = parsed_question.get(\"attribute\", \"temp\")\n",
        "\n",
        "    if attr == \"rain\":\n",
        "        hourly = d.get(\"hourly\", []) or []\n",
        "        precip = 0.0\n",
        "        if hourly:\n",
        "            try:\n",
        "                precip = float(hourly[0].get(\"precipMM\", 0.0))\n",
        "            except:\n",
        "                precip = 0.0\n",
        "        tip = \"Bring an umbrella.\" if precip >= 1.0 else \"Unlikely to rain much.\"\n",
        "        return f\"In {loc} on D{day_idx+1}, expected precipitation ~{precip:.1f} mm. {tip}\"\n",
        "\n",
        "    if attr == \"wind\":\n",
        "        hourly = d.get(\"hourly\", []) or []\n",
        "        wind = hourly[0].get(\"windspeedKmph\", \"NA\") if hourly else \"NA\"\n",
        "        return f\"In {loc} on D{day_idx+1}, typical wind speed ~{wind} km/h.\"\n",
        "\n",
        "    # default: temperature\n",
        "    tmax = d.get(\"maxtempC\", \"NA\")\n",
        "    tmin = d.get(\"mintempC\", \"NA\")\n",
        "    return f\"In {loc} on D{day_idx+1}, temperature ranges from {tmin}°C to {tmax}°C.\"\n"
      ]
    },
    {
      "cell_type": "markdown",
      "id": "fde44479",
      "metadata": {
        "id": "fde44479"
      },
      "source": [
        "## 🧪 Testing and Examples"
      ]
    },
    {
      "cell_type": "code",
      "execution_count": null,
      "id": "4e573901",
      "metadata": {
        "id": "4e573901"
      },
      "outputs": [],
      "source": [
        "# Include sample input/output for each function\n",
        "display(ui)"
      ]
    },
    {
      "cell_type": "markdown",
      "id": "d2885880",
      "metadata": {
        "id": "d2885880"
      },
      "source": [
        "## 🗂️ AI Prompting Log\n",
        "Full conversations are stored in the `ai-conversations/` folder.\n",
        "\n",
        "## Links to conversations\n",
        "- Conversation 1 – Implementation options  \n",
        "  `ISYS5002-Assigment2/ai-conversations/conversation1.txt`\n",
        "- Conversation 2 – Function I/O contracts and data model  \n",
        "  `ISYS5002-Assigment2/ai-conversations/conversation2.txt`\n",
        "- Conversation 3 – Pseudocode-first → precipitation chart  \n",
        "  `ISYS5002-Assigment2/ai-conversations/conversation3.txt`\n",
        "- Conversation 4 – Edge cases & debugging (NameError, 404 fix)  \n",
        "  `ISYS5002-Assigment2/ai-conversations/conversation4.txt`\n",
        "- Conversation 5 – Modular helper & design trade-offs  \n",
        "  `ISYS5002-Assigment2/ai-conversations/conversation5.txt`\n",
        "\n",
        "Before/After:\n",
        "## Links to conversations\n",
        "- `before-after/Precipitation approximation.md`\n",
        "- `before-after/NLP location parsing (404 fix).md`\n",
        "- `before-after/Temperature chart polishing.md`"
      ]
    },
    {
      "cell_type": "code",
      "source": [],
      "metadata": {
        "id": "OP-zlmq4lQ_m"
      },
      "id": "OP-zlmq4lQ_m",
      "execution_count": null,
      "outputs": []
    }
  ],
  "metadata": {
    "language_info": {
      "name": "python"
    },
    "colab": {
      "provenance": [],
      "toc_visible": true,
      "include_colab_link": true
    },
    "kernelspec": {
      "name": "python3",
      "display_name": "Python 3"
    }
  },
  "nbformat": 4,
  "nbformat_minor": 5
}
{
  "cells": [
    {
      "cell_type": "markdown",
      "metadata": {
        "id": "view-in-github",
        "colab_type": "text"
      },
      "source": [
        "<a href=\"https://colab.research.google.com/github/chunyinlo/ISYS5002-Assigment2/blob/main/starter_notebook.ipynb\" target=\"_parent\"><img src=\"https://colab.research.google.com/assets/colab-badge.svg\" alt=\"Open In Colab\"/></a>"
      ]
    },
    {
      "cell_type": "markdown",
      "id": "72e78a05",
      "metadata": {
        "id": "72e78a05"
      },
      "source": [
        "# 🌦️ WeatherWise – Starter Notebook\n",
        "\n",
        "Welcome to your **WeatherWise** project notebook! This scaffold is designed to help you build your weather advisor app using Python, visualisations, and AI-enhanced development.\n",
        "\n",
        "---\n",
        "\n",
        "📄 **Full Assignment Specification**  \n",
        "See [`ASSIGNMENT.md`](ASSIGNMENT.md) or check the LMS for full details.\n",
        "\n",
        "📝 **Quick Refresher**  \n",
        "A one-page summary is available in [`resources/assignment-summary.md`](resources/assignment-summary.md).\n",
        "\n",
        "---\n",
        "\n",
        "🧠 **This Notebook Structure is Optional**  \n",
        "You’re encouraged to reorganise, rename sections, or remove scaffold cells if you prefer — as long as your final version meets the requirements.\n",
        "\n",
        "✅ You may delete this note before submission.\n",
        "\n"
      ]
    },
    {
      "cell_type": "markdown",
      "id": "fa8c7f6c",
      "metadata": {
        "id": "fa8c7f6c"
      },
      "source": [
        "## 🧰 Setup and Imports\n",
        "\n",
        "This section imports commonly used packages and installs any additional tools used in the project.\n",
        "\n",
        "- You may not need all of these unless you're using specific features (e.g. visualisations, advanced prompting).\n",
        "- The notebook assumes the following packages are **pre-installed** in the provided environment or installable via pip:\n",
        "  - `requests`, `matplotlib`, `pyinputplus`\n",
        "  - `fetch-my-weather` (for accessing weather data easily)\n",
        "  - `hands-on-ai` (for AI logging, comparisons, or prompting tools)\n",
        "\n",
        "If you're running this notebook in **Google Colab**, uncomment the following lines to install the required packages.\n"
      ]
    },
    {
      "cell_type": "code",
      "execution_count": 27,
      "id": "70c3f3f1",
      "metadata": {
        "id": "70c3f3f1",
        "colab": {
          "base_uri": "https://localhost:8080/"
        },
        "outputId": "af432dc2-d26d-4d92-e2a4-d16edbddf49c"
      },
      "outputs": [
        {
          "output_type": "stream",
          "name": "stdout",
          "text": [
            "\u001b[?25l   \u001b[90m━━━━━━━━━━━━━━━━━━━━━━━━━━━━━━━━━━━━━━━━\u001b[0m \u001b[32m0.0/1.6 MB\u001b[0m \u001b[31m?\u001b[0m eta \u001b[36m-:--:--\u001b[0m\r\u001b[2K   \u001b[90m━━━━━━━━━━━━━━━━━━━━━━━━━━━━━━━━━━━━━━━━\u001b[0m \u001b[32m1.6/1.6 MB\u001b[0m \u001b[31m49.3 MB/s\u001b[0m eta \u001b[36m0:00:00\u001b[0m\n",
            "\u001b[?25h"
          ]
        }
      ],
      "source": [
        "# 🧪 Optional packages — uncomment if needed in Colab or JupyterHub\n",
        "%pip install ipywidgets --quiet\n"
      ]
    },
    {
      "cell_type": "markdown",
      "id": "59ae7543",
      "metadata": {
        "id": "59ae7543"
      },
      "source": [
        "## 📦 Setup and Configuration\n",
        "Import required packages and setup environment."
      ]
    },
    {
      "cell_type": "code",
      "execution_count": 13,
      "id": "f1dd051e",
      "metadata": {
        "id": "f1dd051e"
      },
      "outputs": [],
      "source": [
        "# Using wttr.in (no AI API / no scaffold package needed)\n",
        "import requests, json, re\n",
        "from datetime import datetime\n",
        "import matplotlib.pyplot as plt\n",
        "# from fetch_my_weather import get_weather      # not used\n",
        "# from hands_on_ai.chat import get_response     # not used\n",
        "# import pyinputplus as pyip            # not used\n"
      ]
    },
    {
      "cell_type": "markdown",
      "id": "f736ade3",
      "metadata": {
        "id": "f736ade3"
      },
      "source": [
        "## 🌤️ Weather Data Functions"
      ]
    },
    {
      "cell_type": "code",
      "execution_count": 14,
      "id": "7a2c7cd0",
      "metadata": {
        "id": "7a2c7cd0"
      },
      "outputs": [],
      "source": [
        "# Define get_weather_data() function here\n",
        "def get_weather_data(location, forecast_days=5):\n",
        "    \"\"\"\n",
        "    Retrieve weather data for a specified location.\n",
        "\n",
        "    Args:\n",
        "        location (str): City or location name\n",
        "        forecast_days (int): Number of days to forecast (1-5)\n",
        "\n",
        "    Returns:\n",
        "        dict: Weather data including current conditions and forecast\n",
        "    \"\"\"\n",
        "    if not isinstance(location, str) or not location.strip():\n",
        "        raise ValueError(\"Location must be a non-empty string.\")\n",
        "\n",
        "    qloc = location.strip().replace(\" \", \"+\")\n",
        "    url = f\"https://wttr.in/{qloc}?format=j1\"\n",
        "\n",
        "    try:\n",
        "        r = requests.get(url, timeout=10)\n",
        "        r.raise_for_status()\n",
        "        data = r.json()\n",
        "    except requests.RequestException as e:\n",
        "        raise RuntimeError(f\"Network/HTTP error: {e}\") from e\n",
        "    except json.JSONDecodeError:\n",
        "        raise RuntimeError(\"Invalid JSON from wttr.in\")\n",
        "\n",
        "    # Keep 1..5 days as per the template\n",
        "    days = data.get(\"weather\", [])[:max(1, min(int(forecast_days or 1), 5))]\n",
        "    current = (data.get(\"current_condition\") or [{}])[0]\n",
        "\n",
        "    return {\"location\": location.strip(), \"current\": current, \"days\": days}"
      ]
    },
    {
      "cell_type": "markdown",
      "id": "8a744fdc",
      "metadata": {
        "id": "8a744fdc"
      },
      "source": [
        "## 📊 Visualisation Functions"
      ]
    },
    {
      "cell_type": "code",
      "execution_count": 30,
      "id": "9dc3bf85",
      "metadata": {
        "id": "9dc3bf85",
        "colab": {
          "base_uri": "https://localhost:8080/",
          "height": 472
        },
        "outputId": "8b01972c-8a44-4180-91b0-c2532d7cd7df"
      },
      "outputs": [
        {
          "output_type": "display_data",
          "data": {
            "text/plain": [
              "<Figure size 640x480 with 1 Axes>"
            ],
            "image/png": "[encoded data removed]"
          },
          "metadata": {}
        }
      ],
      "source": [
        "# Define create_temperature_visualisation() and create_precipitation_visualisation() here\n",
        "def create_temperature_visualisation(weather_data, output_type='display'):\n",
        "    \"\"\"\n",
        "    Create visualisation of temperature data.\n",
        "\n",
        "    Args:\n",
        "        weather_data (dict): The processed weather data\n",
        "        output_type (str): Either 'display' to show in notebook or 'figure' to return the figure\n",
        "\n",
        "    Returns:\n",
        "        If output_type is 'figure', returns the matplotlib figure object\n",
        "        Otherwise, displays the visualisation in the notebook\n",
        "    \"\"\"\n",
        "    days = weather_data.get(\"days\", []) or []\n",
        "    if not days:\n",
        "          raise ValueError(\"No forecast days in weather_data\")\n",
        "\n",
        "    xs, tmax, tmin = [], [], []\n",
        "    for i, d in enumerate(days):\n",
        "        xs.append(f\"D{i+1}\")\n",
        "        tmax.append(float(d.get(\"maxtempC\", 0.0)))\n",
        "        tmin.append(float(d.get(\"mintempC\", 0.0)))\n",
        "\n",
        "    fig, ax = plt.subplots()\n",
        "    ax.plot(xs, tmax, label=\"Max °C\")\n",
        "    ax.plot(xs, tmin, label=\"Min °C\")\n",
        "    ax.set_title(\"Temperature Trend – \" + str(weather_data.get(\"location\",\"\")))\n",
        "    ax.set_xlabel(\"Day\")\n",
        "    ax.set_ylabel(\"°C\")\n",
        "    ax.legend()\n",
        "\n",
        "    if output_type == \"figure\":\n",
        "        return fig\n",
        "    plt.show()\n",
        "    return None\n",
        "\n",
        "wd = get_weather_data(\"Perth\", 3)\n",
        "create_temperature_visualisation(wd)"
      ]
    },
    {
      "cell_type": "code",
      "source": [
        "def create_precipitation_visualisation(weather_data, output_type='display', method=\"mean24\"):\n",
        "    \"\"\"\n",
        "    Create visualisation of precipitation data.\n",
        "\n",
        "    Args:\n",
        "        weather_data (dict): The processed weather data\n",
        "        output_type (str): Either 'display' to show in notebook or 'figure' to return the figure\n",
        "\n",
        "    Returns:\n",
        "        If output_type is 'figure', returns the matplotlib figure object\n",
        "        Otherwise, displays the visualisation in the notebook\n",
        "    \"\"\"\n",
        "\n",
        "    \"\"\"\n",
        "    Bar chart of approximate daily precipitation (mm).\n",
        "    method: 'mean8' | 'mean24' | 'sum'  (uses daily_precip_mm helper)\n",
        "    \"\"\"\n",
        "    days = weather_data.get(\"days\", [])\n",
        "    if not days:\n",
        "        raise ValueError(\"No forecast days in weather_data\")\n",
        "\n",
        "    def daily_precip_mm(day, method=\"mean24\"):\n",
        "      hourly = day.get(\"hourly\", []) or []\n",
        "      vals = []\n",
        "      hours = hourly[:8] if method == \"mean8\" else hourly\n",
        "      for h in hours:\n",
        "        try:\n",
        "            vals.append(float(h.get(\"precipMM\", 0.0)))\n",
        "        except:\n",
        "            pass\n",
        "      if not vals:\n",
        "        return 0.0\n",
        "      if method == \"sum\":\n",
        "        return sum(vals)\n",
        "      return sum(vals) / float(len(vals))\n",
        "\n",
        "    xs, rains = [], []\n",
        "    for i, d in enumerate(days):\n",
        "        xs.append(f\"D{i+1}\")\n",
        "        # requires daily_precip_mm(day, method) defined in previous cell\n",
        "        mm = daily_precip_mm(d, method=method)\n",
        "        rains.append(mm)\n",
        "\n",
        "    fig, ax = plt.subplots()\n",
        "    ax.bar(xs, rains)\n",
        "    ax.set_title(f\"Precipitation (approx) – {weather_data.get('location','')}\")\n",
        "    ax.set_xlabel(\"Day\"); ax.set_ylabel(\"mm\")\n",
        "\n",
        "    if output_type == \"figure\":\n",
        "        return fig\n",
        "    plt.show()\n",
        "    return None\n",
        "\n",
        "wd = get_weather_data(\"Perth\", 3)\n",
        "create_precipitation_visualisation(wd)"
      ],
      "metadata": {
        "id": "HpOlQylYG5Ho",
        "colab": {
          "base_uri": "https://localhost:8080/",
          "height": 472
        },
        "outputId": "a3d04505-dbd4-4a11-ee0a-4751b8670837"
      },
      "id": "HpOlQylYG5Ho",
      "execution_count": 31,
      "outputs": [
        {
          "output_type": "display_data",
          "data": {
            "text/plain": [
              "<Figure size 640x480 with 1 Axes>"
            ],
            "image/png": "[encoded data removed]"
          },
          "metadata": {}
        }
      ]
    },
    {
      "cell_type": "markdown",
      "id": "9f95d160",
      "metadata": {
        "id": "9f95d160"
      },
      "source": [
        "## 🤖 Natural Language Processing"
      ]
    },
    {
      "cell_type": "code",
      "execution_count": 38,
      "id": "bcc5833e",
      "metadata": {
        "id": "bcc5833e"
      },
      "outputs": [],
      "source": [
        "# Define parse_weather_question() and generate_weather_response() here\n",
        "\n",
        "def parse_weather_question(question):\n",
        "    \"\"\"\n",
        "    Parse a natural language weather question.\n",
        "\n",
        "    Args:\n",
        "        question (str): User's weather-related question\n",
        "\n",
        "    Returns:\n",
        "        dict: Extracted information including location, time period, and weather attribute\n",
        "    \"\"\"\n",
        "    import re\n",
        "    q = (question or \"\").lower().strip()\n",
        "\n",
        "    # location: 'in <place>' or '@<place>'\n",
        "    loc = None\n",
        "    m = re.search(r\"(in|@)\\s+([a-z\\- \\t]+)\", q)\n",
        "    if m:\n",
        "        loc = m.group(2).strip()\n",
        "\n",
        "    # attribute (intent)\n",
        "    if (\"rain\" in q) or (\"umbrella\" in q) or (\"precip\" in q) or (\"wet\" in q):\n",
        "        attr = \"rain\"\n",
        "    elif (\"wind\" in q) or (\"windy\" in q) or (\"gust\" in q):\n",
        "        attr = \"wind\"\n",
        "    else:\n",
        "        attr = \"temp\"\n",
        "\n",
        "    # time period → day_index: 0=today, 1=tomorrow, 2=day-after\n",
        "    if (\"day after\" in q) or (\"d3\" in q) or (\"in two days\" in q):\n",
        "        day_idx = 2\n",
        "    elif (\"tomorrow\" in q) or (\"d2\" in q):\n",
        "        day_idx = 1\n",
        "    else:\n",
        "        day_idx = 0\n",
        "\n",
        "    return {\"location\": loc, \"attribute\": attr, \"day_index\": day_idx}\n"
      ]
    },
    {
      "cell_type": "markdown",
      "id": "0d85225e",
      "metadata": {
        "id": "0d85225e"
      },
      "source": [
        "## 🧭 User Interface"
      ]
    },
    {
      "cell_type": "code",
      "execution_count": 39,
      "id": "fa6cb0f6",
      "metadata": {
        "id": "fa6cb0f6"
      },
      "outputs": [],
      "source": [
        "try:\n",
        "    import ipywidgets as widgets\n",
        "    from IPython.display import display, clear_output\n",
        "except Exception:\n",
        "    %pip install ipywidgets --quiet\n",
        "    import ipywidgets as widgets\n",
        "    from IPython.display import display, clear_output\n",
        "\n",
        "def _clean_location(raw):\n",
        "    if not raw:\n",
        "        return raw\n",
        "    stop = {\"today\",\"tomorrow\",\"tonight\",\"day\",\"after\",\"weekend\",\"week\",\"d2\",\"d3\"}\n",
        "    parts = str(raw).lower().strip().split()\n",
        "    kept = []\n",
        "    for w in parts:\n",
        "        if w in stop:\n",
        "            break\n",
        "        kept.append(w)\n",
        "    return \" \".join(kept).strip().title()\n",
        "\n",
        "def _check_core():\n",
        "    missing = [name for name in [\n",
        "        \"get_weather_data\",\n",
        "        \"create_temperature_visualisation\",\n",
        "        \"create_precipitation_visualisation\",\n",
        "        \"parse_weather_question\",\n",
        "        \"generate_weather_response\",\n",
        "    ] if name not in globals()]\n",
        "    if missing:\n",
        "        raise RuntimeError(\"Please run the cells that define these functions first: \"\n",
        "                           + \", \".join(missing))\n",
        "\n",
        "loc_w    = widgets.Text(value=\"Perth\", description=\"Location:\")\n",
        "days_w   = widgets.IntSlider(value=3, min=1, max=5, step=1, description=\"Days:\")\n",
        "method_w = widgets.Dropdown(options=[\"mean24\",\"mean8\",\"sum\"], value=\"mean24\",\n",
        "                            description=\"Rain & calc:\")\n",
        "run_btn  = widgets.Button(description=\"Fetch & Plot\", button_style=\"primary\")\n",
        "\n",
        "q_w      = widgets.Text(value=\"Will it rain in Perth tomorrow?\", description=\"Question:\")\n",
        "ask_btn  = widgets.Button(description=\"Ask\")\n",
        "\n",
        "out = widgets.Output()\n",
        "\n",
        "def on_run_clicked(_):\n",
        "    with out:\n",
        "        clear_output()\n",
        "        try:\n",
        "            _check_core()\n",
        "            loc = _clean_location(loc_w.value) or \"Perth\"\n",
        "            wd = get_weather_data(loc, forecast_days=days_w.value)\n",
        "            print(f\"Fetched {len(wd.get('days', []))} day(s) for {wd.get('location')}\")\n",
        "            create_temperature_visualisation(wd)\n",
        "            create_precipitation_visualisation(wd, method=method_w.value)\n",
        "        except Exception as e:\n",
        "            print(\"Error:\", e)\n",
        "\n",
        "def on_ask_clicked(_):\n",
        "    with out:\n",
        "        try:\n",
        "            _check_core()\n",
        "            parsed = parse_weather_question(q_w.value)\n",
        "            if parsed.get(\"location\"):\n",
        "                parsed[\"location\"] = _clean_location(parsed[\"location\"]) or _clean_location(loc_w.value) or \"Perth\"\n",
        "            else:\n",
        "                parsed[\"location\"] = _clean_location(loc_w.value) or \"Perth\"\n",
        "\n",
        "            wd = get_weather_data(parsed[\"location\"], forecast_days=days_w.value)\n",
        "            print(generate_weather_response(parsed, wd))\n",
        "        except Exception as e:\n",
        "            print(\"Error:\", e)\n",
        "\n",
        "run_btn.on_click(on_run_clicked)\n",
        "ask_btn.on_click(on_ask_clicked)\n",
        "\n",
        "ui = widgets.VBox([\n",
        "    widgets.HBox([loc_w, days_w, method_w, run_btn]),\n",
        "    widgets.HBox([q_w, ask_btn]),\n",
        "    out\n",
        "])\n"
      ]
    },
    {
      "cell_type": "markdown",
      "id": "d643a53c",
      "metadata": {
        "id": "d643a53c"
      },
      "source": [
        "## 🧩 Main Application Logic"
      ]
    },
    {
      "cell_type": "code",
      "execution_count": 40,
      "id": "a9e2e805",
      "metadata": {
        "id": "a9e2e805"
      },
      "outputs": [],
      "source": [
        "# Tie everything together here\n",
        "def generate_weather_response(parsed_question, weather_data):\n",
        "    \"\"\"\n",
        "    Generate a natural language response to a weather question.\n",
        "\n",
        "    Args:\n",
        "        parsed_question (dict): Parsed question data\n",
        "        weather_data (dict): Weather data\n",
        "\n",
        "    Returns:\n",
        "        str: Natural language response\n",
        "    \"\"\"\n",
        "def generate_weather_response(parsed_question, weather_data):\n",
        "    day_idx = int(parsed_question.get(\"day_index\", 0))\n",
        "    days = weather_data.get(\"days\", []) or []\n",
        "    if not days:\n",
        "        return \"I couldn't retrieve the forecast.\"\n",
        "    if day_idx >= len(days):\n",
        "        day_idx = 0\n",
        "\n",
        "    d = days[day_idx]\n",
        "    loc = weather_data.get(\"location\", \"your location\")\n",
        "    attr = parsed_question.get(\"attribute\", \"temp\")\n",
        "\n",
        "    if attr == \"rain\":\n",
        "        hourly = d.get(\"hourly\", []) or []\n",
        "        precip = 0.0\n",
        "        if hourly:\n",
        "            try:\n",
        "                precip = float(hourly[0].get(\"precipMM\", 0.0))\n",
        "            except:\n",
        "                precip = 0.0\n",
        "        tip = \"Bring an umbrella.\" if precip >= 1.0 else \"Unlikely to rain much.\"\n",
        "        return f\"In {loc} on D{day_idx+1}, expected precipitation ~{precip:.1f} mm. {tip}\"\n",
        "\n",
        "    if attr == \"wind\":\n",
        "        hourly = d.get(\"hourly\", []) or []\n",
        "        wind = hourly[0].get(\"windspeedKmph\", \"NA\") if hourly else \"NA\"\n",
        "        return f\"In {loc} on D{day_idx+1}, typical wind speed ~{wind} km/h.\"\n",
        "\n",
        "    # default: temperature\n",
        "    tmax = d.get(\"maxtempC\", \"NA\")\n",
        "    tmin = d.get(\"mintempC\", \"NA\")\n",
        "    return f\"In {loc} on D{day_idx+1}, temperature ranges from {tmin}°C to {tmax}°C.\"\n"
      ]
    },
    {
      "cell_type": "markdown",
      "id": "fde44479",
      "metadata": {
        "id": "fde44479"
      },
      "source": [
        "## 🧪 Testing and Examples"
      ]
    },
    {
      "cell_type": "code",
      "execution_count": 41,
      "id": "4e573901",
      "metadata": {
        "id": "4e573901",
        "colab": {
          "base_uri": "https://localhost:8080/",
          "height": 1000,
          "referenced_widgets": [
            "d3957c163012471e99952c1016a74bd1",
            "6f7b0b8dbde54290889078afb1cd6e77",
            "e480a4be2cc946ac97aff353a3f18852",
            "8e5354c937644cb7bb962658174f1ff2",
            "aae92a415611471fbc847857729d3c17",
            "728e26cf7d2a489ca7e6ca477aef792e",
            "5d3dab4bb1144c5f891a07d6cb473e8f",
            "15011ea236ac4e49a243cc0a49699761",
            "48957e9944314e0092be1f2f6bbc2657",
            "4bbcbd44f8f84fe8bfe32f1bd8700ad9",
            "5984b3319815463d95eec064b6ff8ae8",
            "9aa91d0c1bb24bac969d00a11fefeae3",
            "76dd079ca4a949e6bf6e483c48bdd0ed",
            "daca9d4a36da435b85cc1559e056069f",
            "4538cb714a4549089e1ef63c29d23559",
            "d7a2d7fbdce547129de5f044633b1f0d",
            "15200d3054fa4c6b9be990f761705ba8",
            "836bada8f3854b2882a7a387349b8c8a",
            "0666f51a34ed41a498448f509a3a3600",
            "252d936292e741bbb11cee53946f8132",
            "19c33c3977274eb38dfe2952b59e1fc1",
            "00a5b7db75d74cc4bb401e09c3aa24da",
            "67c696bdf30a4bc1a4d01bf9e68774ea",
            "b964c148350e450c88f1199764674982",
            "db03c3d33b3b46888d669a2606e1ec15",
            "eae8370084b848d996b6768b3e387b1f"
          ]
        },
        "outputId": "7ce3d265-1693-4cf4-b00b-a26eed4f7047"
      },
      "outputs": [
        {
          "output_type": "display_data",
          "data": {
            "text/plain": [
              "VBox(children=(HBox(children=(Text(value='Perth', description='Location:'), IntSlider(value=3, description='Da…"
            ],
            "application/vnd.jupyter.widget-view+json": {
              "version_major": 2,
              "version_minor": 0,
              "model_id": "d3957c163012471e99952c1016a74bd1"
            }
          },
          "metadata": {}
        }
      ],
      "source": [
        "# Include sample input/output for each function\n",
        "display(ui)"
      ]
    },
    {
      "cell_type": "markdown",
      "id": "d2885880",
      "metadata": {
        "id": "d2885880"
      },
      "source": [
        "## 🗂️ AI Prompting Log (Optional)\n",
        "Add markdown cells here summarising prompts used or link to AI conversations in the `ai-conversations/` folder."
      ]
    }
  ],
  "metadata": {
    "language_info": {
      "name": "python"
    },
    "colab": {
      "provenance": [],
      "include_colab_link": true
    },
    "kernelspec": {
      "name": "python3",
      "display_name": "Python 3"
    },
    "widgets": {
      "application/vnd.jupyter.widget-state+json": {
        "d3957c163012471e99952c1016a74bd1": {
          "model_module": "@jupyter-widgets/controls",
          "model_name": "VBoxModel",
          "model_module_version": "1.5.0",
          "state": {
            "_dom_classes": [],
            "_model_module": "@jupyter-widgets/controls",
            "_model_module_version": "1.5.0",
            "_model_name": "VBoxModel",
            "_view_count": null,
            "_view_module": "@jupyter-widgets/controls",
            "_view_module_version": "1.5.0",
            "_view_name": "VBoxView",
            "box_style": "",
            "children": [
              "IPY_MODEL_6f7b0b8dbde54290889078afb1cd6e77",
              "IPY_MODEL_e480a4be2cc946ac97aff353a3f18852",
              "IPY_MODEL_8e5354c937644cb7bb962658174f1ff2"
            ],
            "layout": "IPY_MODEL_aae92a415611471fbc847857729d3c17"
          }
        },
        "6f7b0b8dbde54290889078afb1cd6e77": {
          "model_module": "@jupyter-widgets/controls",
          "model_name": "HBoxModel",
          "model_module_version": "1.5.0",
          "state": {
            "_dom_classes": [],
            "_model_module": "@jupyter-widgets/controls",
            "_model_module_version": "1.5.0",
            "_model_name": "HBoxModel",
            "_view_count": null,
            "_view_module": "@jupyter-widgets/controls",
            "_view_module_version": "1.5.0",
            "_view_name": "HBoxView",
            "box_style": "",
            "children": [
              "IPY_MODEL_728e26cf7d2a489ca7e6ca477aef792e",
              "IPY_MODEL_5d3dab4bb1144c5f891a07d6cb473e8f",
              "IPY_MODEL_15011ea236ac4e49a243cc0a49699761",
              "IPY_MODEL_48957e9944314e0092be1f2f6bbc2657"
            ],
            "layout": "IPY_MODEL_4bbcbd44f8f84fe8bfe32f1bd8700ad9"
          }
        },
        "e480a4be2cc946ac97aff353a3f18852": {
          "model_module": "@jupyter-widgets/controls",
          "model_name": "HBoxModel",
          "model_module_version": "1.5.0",
          "state": {
            "_dom_classes": [],
            "_model_module": "@jupyter-widgets/controls",
            "_model_module_version": "1.5.0",
            "_model_name": "HBoxModel",
            "_view_count": null,
            "_view_module": "@jupyter-widgets/controls",
            "_view_module_version": "1.5.0",
            "_view_name": "HBoxView",
            "box_style": "",
            "children": [
              "IPY_MODEL_5984b3319815463d95eec064b6ff8ae8",
              "IPY_MODEL_9aa91d0c1bb24bac969d00a11fefeae3"
            ],
            "layout": "IPY_MODEL_76dd079ca4a949e6bf6e483c48bdd0ed"
          }
        },
        "8e5354c937644cb7bb962658174f1ff2": {
          "model_module": "@jupyter-widgets/output",
          "model_name": "OutputModel",
          "model_module_version": "1.0.0",
          "state": {
            "_dom_classes": [],
            "_model_module": "@jupyter-widgets/output",
            "_model_module_version": "1.0.0",
            "_model_name": "OutputModel",
            "_view_count": null,
            "_view_module": "@jupyter-widgets/output",
            "_view_module_version": "1.0.0",
            "_view_name": "OutputView",
            "layout": "IPY_MODEL_eae8370084b848d996b6768b3e387b1f",
            "msg_id": "",
            "outputs": [
              {
                "output_type": "stream",
                "name": "stdout",
                "text": [
                  "Fetched 3 day(s) for Perth\n"
                ]
              },
              {
                "output_type": "display_data",
                "data": {
                  "text/plain": "<Figure size 640x480 with 1 Axes>",
                  "image/png": "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\n"
                },
                "metadata": {}
              },
              {
                "output_type": "display_data",
                "data": {
                  "text/plain": "<Figure size 640x480 with 1 Axes>",
                  "image/png": "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\n"
                },
                "metadata": {}
              },
              {
                "output_type": "stream",
                "name": "stdout",
                "text": [
                  "In In Perth on D2, expected precipitation ~0.0 mm. Unlikely to rain much.\n"
                ]
              }
            ]
          }
        },
        "aae92a415611471fbc847857729d3c17": {
          "model_module": "@jupyter-widgets/base",
          "model_name": "LayoutModel",
          "model_module_version": "1.2.0",
          "state": {
            "_model_module": "@jupyter-widgets/base",
            "_model_module_version": "1.2.0",
            "_model_name": "LayoutModel",
            "_view_count": null,
            "_view_module": "@jupyter-widgets/base",
            "_view_module_version": "1.2.0",
            "_view_name": "LayoutView",
            "align_content": null,
            "align_items": null,
            "align_self": null,
            "border": null,
            "bottom": null,
            "display": null,
            "flex": null,
            "flex_flow": null,
            "grid_area": null,
            "grid_auto_columns": null,
            "grid_auto_flow": null,
            "grid_auto_rows": null,
            "grid_column": null,
            "grid_gap": null,
            "grid_row": null,
            "grid_template_areas": null,
            "grid_template_columns": null,
            "grid_template_rows": null,
            "height": null,
            "justify_content": null,
            "justify_items": null,
            "left": null,
            "margin": null,
            "max_height": null,
            "max_width": null,
            "min_height": null,
            "min_width": null,
            "object_fit": null,
            "object_position": null,
            "order": null,
            "overflow": null,
            "overflow_x": null,
            "overflow_y": null,
            "padding": null,
            "right": null,
            "top": null,
            "visibility": null,
            "width": null
          }
        },
        "728e26cf7d2a489ca7e6ca477aef792e": {
          "model_module": "@jupyter-widgets/controls",
          "model_name": "TextModel",
          "model_module_version": "1.5.0",
          "state": {
            "_dom_classes": [],
            "_model_module": "@jupyter-widgets/controls",
            "_model_module_version": "1.5.0",
            "_model_name": "TextModel",
            "_view_count": null,
            "_view_module": "@jupyter-widgets/controls",
            "_view_module_version": "1.5.0",
            "_view_name": "TextView",
            "continuous_update": true,
            "description": "Location:",
            "description_tooltip": null,
            "disabled": false,
            "layout": "IPY_MODEL_daca9d4a36da435b85cc1559e056069f",
            "placeholder": "​",
            "style": "IPY_MODEL_4538cb714a4549089e1ef63c29d23559",
            "value": "Perth"
          }
        },
        "5d3dab4bb1144c5f891a07d6cb473e8f": {
          "model_module": "@jupyter-widgets/controls",
          "model_name": "IntSliderModel",
          "model_module_version": "1.5.0",
          "state": {
            "_dom_classes": [],
            "_model_module": "@jupyter-widgets/controls",
            "_model_module_version": "1.5.0",
            "_model_name": "IntSliderModel",
            "_view_count": null,
            "_view_module": "@jupyter-widgets/controls",
            "_view_module_version": "1.5.0",
            "_view_name": "IntSliderView",
            "continuous_update": true,
            "description": "Days:",
            "description_tooltip": null,
            "disabled": false,
            "layout": "IPY_MODEL_d7a2d7fbdce547129de5f044633b1f0d",
            "max": 5,
            "min": 1,
            "orientation": "horizontal",
            "readout": true,
            "readout_format": "d",
            "step": 1,
            "style": "IPY_MODEL_15200d3054fa4c6b9be990f761705ba8",
            "value": 3
          }
        },
        "15011ea236ac4e49a243cc0a49699761": {
          "model_module": "@jupyter-widgets/controls",
          "model_name": "DropdownModel",
          "model_module_version": "1.5.0",
          "state": {
            "_dom_classes": [],
            "_model_module": "@jupyter-widgets/controls",
            "_model_module_version": "1.5.0",
            "_model_name": "DropdownModel",
            "_options_labels": [
              "mean24",
              "mean8",
              "sum"
            ],
            "_view_count": null,
            "_view_module": "@jupyter-widgets/controls",
            "_view_module_version": "1.5.0",
            "_view_name": "DropdownView",
            "description": "Rain & calc:",
            "description_tooltip": null,
            "disabled": false,
            "index": 0,
            "layout": "IPY_MODEL_836bada8f3854b2882a7a387349b8c8a",
            "style": "IPY_MODEL_0666f51a34ed41a498448f509a3a3600"
          }
        },
        "48957e9944314e0092be1f2f6bbc2657": {
          "model_module": "@jupyter-widgets/controls",
          "model_name": "ButtonModel",
          "model_module_version": "1.5.0",
          "state": {
            "_dom_classes": [],
            "_model_module": "@jupyter-widgets/controls",
            "_model_module_version": "1.5.0",
            "_model_name": "ButtonModel",
            "_view_count": null,
            "_view_module": "@jupyter-widgets/controls",
            "_view_module_version": "1.5.0",
            "_view_name": "ButtonView",
            "button_style": "primary",
            "description": "Fetch & Plot",
            "disabled": false,
            "icon": "",
            "layout": "IPY_MODEL_252d936292e741bbb11cee53946f8132",
            "style": "IPY_MODEL_19c33c3977274eb38dfe2952b59e1fc1",
            "tooltip": ""
          }
        },
        "4bbcbd44f8f84fe8bfe32f1bd8700ad9": {
          "model_module": "@jupyter-widgets/base",
          "model_name": "LayoutModel",
          "model_module_version": "1.2.0",
          "state": {
            "_model_module": "@jupyter-widgets/base",
            "_model_module_version": "1.2.0",
            "_model_name": "LayoutModel",
            "_view_count": null,
            "_view_module": "@jupyter-widgets/base",
            "_view_module_version": "1.2.0",
            "_view_name": "LayoutView",
            "align_content": null,
            "align_items": null,
            "align_self": null,
            "border": null,
            "bottom": null,
            "display": null,
            "flex": null,
            "flex_flow": null,
            "grid_area": null,
            "grid_auto_columns": null,
            "grid_auto_flow": null,
            "grid_auto_rows": null,
            "grid_column": null,
            "grid_gap": null,
            "grid_row": null,
            "grid_template_areas": null,
            "grid_template_columns": null,
            "grid_template_rows": null,
            "height": null,
            "justify_content": null,
            "justify_items": null,
            "left": null,
            "margin": null,
            "max_height": null,
            "max_width": null,
            "min_height": null,
            "min_width": null,
            "object_fit": null,
            "object_position": null,
            "order": null,
            "overflow": null,
            "overflow_x": null,
            "overflow_y": null,
            "padding": null,
            "right": null,
            "top": null,
            "visibility": null,
            "width": null
          }
        },
        "5984b3319815463d95eec064b6ff8ae8": {
          "model_module": "@jupyter-widgets/controls",
          "model_name": "TextModel",
          "model_module_version": "1.5.0",
          "state": {
            "_dom_classes": [],
            "_model_module": "@jupyter-widgets/controls",
            "_model_module_version": "1.5.0",
            "_model_name": "TextModel",
            "_view_count": null,
            "_view_module": "@jupyter-widgets/controls",
            "_view_module_version": "1.5.0",
            "_view_name": "TextView",
            "continuous_update": true,
            "description": "Question:",
            "description_tooltip": null,
            "disabled": false,
            "layout": "IPY_MODEL_00a5b7db75d74cc4bb401e09c3aa24da",
            "placeholder": "​",
            "style": "IPY_MODEL_67c696bdf30a4bc1a4d01bf9e68774ea",
            "value": "Will it rain in Perth tomorrow?"
          }
        },
        "9aa91d0c1bb24bac969d00a11fefeae3": {
          "model_module": "@jupyter-widgets/controls",
          "model_name": "ButtonModel",
          "model_module_version": "1.5.0",
          "state": {
            "_dom_classes": [],
            "_model_module": "@jupyter-widgets/controls",
            "_model_module_version": "1.5.0",
            "_model_name": "ButtonModel",
            "_view_count": null,
            "_view_module": "@jupyter-widgets/controls",
            "_view_module_version": "1.5.0",
            "_view_name": "ButtonView",
            "button_style": "",
            "description": "Ask",
            "disabled": false,
            "icon": "",
            "layout": "IPY_MODEL_b964c148350e450c88f1199764674982",
            "style": "IPY_MODEL_db03c3d33b3b46888d669a2606e1ec15",
            "tooltip": ""
          }
        },
        "76dd079ca4a949e6bf6e483c48bdd0ed": {
          "model_module": "@jupyter-widgets/base",
          "model_name": "LayoutModel",
          "model_module_version": "1.2.0",
          "state": {
            "_model_module": "@jupyter-widgets/base",
            "_model_module_version": "1.2.0",
            "_model_name": "LayoutModel",
            "_view_count": null,
            "_view_module": "@jupyter-widgets/base",
            "_view_module_version": "1.2.0",
            "_view_name": "LayoutView",
            "align_content": null,
            "align_items": null,
            "align_self": null,
            "border": null,
            "bottom": null,
            "display": null,
            "flex": null,
            "flex_flow": null,
            "grid_area": null,
            "grid_auto_columns": null,
            "grid_auto_flow": null,
            "grid_auto_rows": null,
            "grid_column": null,
            "grid_gap": null,
            "grid_row": null,
            "grid_template_areas": null,
            "grid_template_columns": null,
            "grid_template_rows": null,
            "height": null,
            "justify_content": null,
            "justify_items": null,
            "left": null,
            "margin": null,
            "max_height": null,
            "max_width": null,
            "min_height": null,
            "min_width": null,
            "object_fit": null,
            "object_position": null,
            "order": null,
            "overflow": null,
            "overflow_x": null,
            "overflow_y": null,
            "padding": null,
            "right": null,
            "top": null,
            "visibility": null,
            "width": null
          }
        },
        "daca9d4a36da435b85cc1559e056069f": {
          "model_module": "@jupyter-widgets/base",
          "model_name": "LayoutModel",
          "model_module_version": "1.2.0",
          "state": {
            "_model_module": "@jupyter-widgets/base",
            "_model_module_version": "1.2.0",
            "_model_name": "LayoutModel",
            "_view_count": null,
            "_view_module": "@jupyter-widgets/base",
            "_view_module_version": "1.2.0",
            "_view_name": "LayoutView",
            "align_content": null,
            "align_items": null,
            "align_self": null,
            "border": null,
            "bottom": null,
            "display": null,
            "flex": null,
            "flex_flow": null,
            "grid_area": null,
            "grid_auto_columns": null,
            "grid_auto_flow": null,
            "grid_auto_rows": null,
            "grid_column": null,
            "grid_gap": null,
            "grid_row": null,
            "grid_template_areas": null,
            "grid_template_columns": null,
            "grid_template_rows": null,
            "height": null,
            "justify_content": null,
            "justify_items": null,
            "left": null,
            "margin": null,
            "max_height": null,
            "max_width": null,
            "min_height": null,
            "min_width": null,
            "object_fit": null,
            "object_position": null,
            "order": null,
            "overflow": null,
            "overflow_x": null,
            "overflow_y": null,
            "padding": null,
            "right": null,
            "top": null,
            "visibility": null,
            "width": null
          }
        },
        "4538cb714a4549089e1ef63c29d23559": {
          "model_module": "@jupyter-widgets/controls",
          "model_name": "DescriptionStyleModel",
          "model_module_version": "1.5.0",
          "state": {
            "_model_module": "@jupyter-widgets/controls",
            "_model_module_version": "1.5.0",
            "_model_name": "DescriptionStyleModel",
            "_view_count": null,
            "_view_module": "@jupyter-widgets/base",
            "_view_module_version": "1.2.0",
            "_view_name": "StyleView",
            "description_width": ""
          }
        },
        "d7a2d7fbdce547129de5f044633b1f0d": {
          "model_module": "@jupyter-widgets/base",
          "model_name": "LayoutModel",
          "model_module_version": "1.2.0",
          "state": {
            "_model_module": "@jupyter-widgets/base",
            "_model_module_version": "1.2.0",
            "_model_name": "LayoutModel",
            "_view_count": null,
            "_view_module": "@jupyter-widgets/base",
            "_view_module_version": "1.2.0",
            "_view_name": "LayoutView",
            "align_content": null,
            "align_items": null,
            "align_self": null,
            "border": null,
            "bottom": null,
            "display": null,
            "flex": null,
            "flex_flow": null,
            "grid_area": null,
            "grid_auto_columns": null,
            "grid_auto_flow": null,
            "grid_auto_rows": null,
            "grid_column": null,
            "grid_gap": null,
            "grid_row": null,
            "grid_template_areas": null,
            "grid_template_columns": null,
            "grid_template_rows": null,
            "height": null,
            "justify_content": null,
            "justify_items": null,
            "left": null,
            "margin": null,
            "max_height": null,
            "max_width": null,
            "min_height": null,
            "min_width": null,
            "object_fit": null,
            "object_position": null,
            "order": null,
            "overflow": null,
            "overflow_x": null,
            "overflow_y": null,
            "padding": null,
            "right": null,
            "top": null,
            "visibility": null,
            "width": null
          }
        },
        "15200d3054fa4c6b9be990f761705ba8": {
          "model_module": "@jupyter-widgets/controls",
          "model_name": "SliderStyleModel",
          "model_module_version": "1.5.0",
          "state": {
            "_model_module": "@jupyter-widgets/controls",
            "_model_module_version": "1.5.0",
            "_model_name": "SliderStyleModel",
            "_view_count": null,
            "_view_module": "@jupyter-widgets/base",
            "_view_module_version": "1.2.0",
            "_view_name": "StyleView",
            "description_width": "",
            "handle_color": null
          }
        },
        "836bada8f3854b2882a7a387349b8c8a": {
          "model_module": "@jupyter-widgets/base",
          "model_name": "LayoutModel",
          "model_module_version": "1.2.0",
          "state": {
            "_model_module": "@jupyter-widgets/base",
            "_model_module_version": "1.2.0",
            "_model_name": "LayoutModel",
            "_view_count": null,
            "_view_module": "@jupyter-widgets/base",
            "_view_module_version": "1.2.0",
            "_view_name": "LayoutView",
            "align_content": null,
            "align_items": null,
            "align_self": null,
            "border": null,
            "bottom": null,
            "display": null,
            "flex": null,
            "flex_flow": null,
            "grid_area": null,
            "grid_auto_columns": null,
            "grid_auto_flow": null,
            "grid_auto_rows": null,
            "grid_column": null,
            "grid_gap": null,
            "grid_row": null,
            "grid_template_areas": null,
            "grid_template_columns": null,
            "grid_template_rows": null,
            "height": null,
            "justify_content": null,
            "justify_items": null,
            "left": null,
            "margin": null,
            "max_height": null,
            "max_width": null,
            "min_height": null,
            "min_width": null,
            "object_fit": null,
            "object_position": null,
            "order": null,
            "overflow": null,
            "overflow_x": null,
            "overflow_y": null,
            "padding": null,
            "right": null,
            "top": null,
            "visibility": null,
            "width": null
          }
        },
        "0666f51a34ed41a498448f509a3a3600": {
          "model_module": "@jupyter-widgets/controls",
          "model_name": "DescriptionStyleModel",
          "model_module_version": "1.5.0",
          "state": {
            "_model_module": "@jupyter-widgets/controls",
            "_model_module_version": "1.5.0",
            "_model_name": "DescriptionStyleModel",
            "_view_count": null,
            "_view_module": "@jupyter-widgets/base",
            "_view_module_version": "1.2.0",
            "_view_name": "StyleView",
            "description_width": ""
          }
        },
        "252d936292e741bbb11cee53946f8132": {
          "model_module": "@jupyter-widgets/base",
          "model_name": "LayoutModel",
          "model_module_version": "1.2.0",
          "state": {
            "_model_module": "@jupyter-widgets/base",
            "_model_module_version": "1.2.0",
            "_model_name": "LayoutModel",
            "_view_count": null,
            "_view_module": "@jupyter-widgets/base",
            "_view_module_version": "1.2.0",
            "_view_name": "LayoutView",
            "align_content": null,
            "align_items": null,
            "align_self": null,
            "border": null,
            "bottom": null,
            "display": null,
            "flex": null,
            "flex_flow": null,
            "grid_area": null,
            "grid_auto_columns": null,
            "grid_auto_flow": null,
            "grid_auto_rows": null,
            "grid_column": null,
            "grid_gap": null,
            "grid_row": null,
            "grid_template_areas": null,
            "grid_template_columns": null,
            "grid_template_rows": null,
            "height": null,
            "justify_content": null,
            "justify_items": null,
            "left": null,
            "margin": null,
            "max_height": null,
            "max_width": null,
            "min_height": null,
            "min_width": null,
            "object_fit": null,
            "object_position": null,
            "order": null,
            "overflow": null,
            "overflow_x": null,
            "overflow_y": null,
            "padding": null,
            "right": null,
            "top": null,
            "visibility": null,
            "width": null
          }
        },
        "19c33c3977274eb38dfe2952b59e1fc1": {
          "model_module": "@jupyter-widgets/controls",
          "model_name": "ButtonStyleModel",
          "model_module_version": "1.5.0",
          "state": {
            "_model_module": "@jupyter-widgets/controls",
            "_model_module_version": "1.5.0",
            "_model_name": "ButtonStyleModel",
            "_view_count": null,
            "_view_module": "@jupyter-widgets/base",
            "_view_module_version": "1.2.0",
            "_view_name": "StyleView",
            "button_color": null,
            "font_weight": ""
          }
        },
        "00a5b7db75d74cc4bb401e09c3aa24da": {
          "model_module": "@jupyter-widgets/base",
          "model_name": "LayoutModel",
          "model_module_version": "1.2.0",
          "state": {
            "_model_module": "@jupyter-widgets/base",
            "_model_module_version": "1.2.0",
            "_model_name": "LayoutModel",
            "_view_count": null,
            "_view_module": "@jupyter-widgets/base",
            "_view_module_version": "1.2.0",
            "_view_name": "LayoutView",
            "align_content": null,
            "align_items": null,
            "align_self": null,
            "border": null,
            "bottom": null,
            "display": null,
            "flex": null,
            "flex_flow": null,
            "grid_area": null,
            "grid_auto_columns": null,
            "grid_auto_flow": null,
            "grid_auto_rows": null,
            "grid_column": null,
            "grid_gap": null,
            "grid_row": null,
            "grid_template_areas": null,
            "grid_template_columns": null,
            "grid_template_rows": null,
            "height": null,
            "justify_content": null,
            "justify_items": null,
            "left": null,
            "margin": null,
            "max_height": null,
            "max_width": null,
            "min_height": null,
            "min_width": null,
            "object_fit": null,
            "object_position": null,
            "order": null,
            "overflow": null,
            "overflow_x": null,
            "overflow_y": null,
            "padding": null,
            "right": null,
            "top": null,
            "visibility": null,
            "width": null
          }
        },
        "67c696bdf30a4bc1a4d01bf9e68774ea": {
          "model_module": "@jupyter-widgets/controls",
          "model_name": "DescriptionStyleModel",
          "model_module_version": "1.5.0",
          "state": {
            "_model_module": "@jupyter-widgets/controls",
            "_model_module_version": "1.5.0",
            "_model_name": "DescriptionStyleModel",
            "_view_count": null,
            "_view_module": "@jupyter-widgets/base",
            "_view_module_version": "1.2.0",
            "_view_name": "StyleView",
            "description_width": ""
          }
        },
        "b964c148350e450c88f1199764674982": {
          "model_module": "@jupyter-widgets/base",
          "model_name": "LayoutModel",
          "model_module_version": "1.2.0",
          "state": {
            "_model_module": "@jupyter-widgets/base",
            "_model_module_version": "1.2.0",
            "_model_name": "LayoutModel",
            "_view_count": null,
            "_view_module": "@jupyter-widgets/base",
            "_view_module_version": "1.2.0",
            "_view_name": "LayoutView",
            "align_content": null,
            "align_items": null,
            "align_self": null,
            "border": null,
            "bottom": null,
            "display": null,
            "flex": null,
            "flex_flow": null,
            "grid_area": null,
            "grid_auto_columns": null,
            "grid_auto_flow": null,
            "grid_auto_rows": null,
            "grid_column": null,
            "grid_gap": null,
            "grid_row": null,
            "grid_template_areas": null,
            "grid_template_columns": null,
            "grid_template_rows": null,
            "height": null,
            "justify_content": null,
            "justify_items": null,
            "left": null,
            "margin": null,
            "max_height": null,
            "max_width": null,
            "min_height": null,
            "min_width": null,
            "object_fit": null,
            "object_position": null,
            "order": null,
            "overflow": null,
            "overflow_x": null,
            "overflow_y": null,
            "padding": null,
            "right": null,
            "top": null,
            "visibility": null,
            "width": null
          }
        },
        "db03c3d33b3b46888d669a2606e1ec15": {
          "model_module": "@jupyter-widgets/controls",
          "model_name": "ButtonStyleModel",
          "model_module_version": "1.5.0",
          "state": {
            "_model_module": "@jupyter-widgets/controls",
            "_model_module_version": "1.5.0",
            "_model_name": "ButtonStyleModel",
            "_view_count": null,
            "_view_module": "@jupyter-widgets/base",
            "_view_module_version": "1.2.0",
            "_view_name": "StyleView",
            "button_color": null,
            "font_weight": ""
          }
        },
        "eae8370084b848d996b6768b3e387b1f": {
          "model_module": "@jupyter-widgets/base",
          "model_name": "LayoutModel",
          "model_module_version": "1.2.0",
          "state": {
            "_model_module": "@jupyter-widgets/base",
            "_model_module_version": "1.2.0",
            "_model_name": "LayoutModel",
            "_view_count": null,
            "_view_module": "@jupyter-widgets/base",
            "_view_module_version": "1.2.0",
            "_view_name": "LayoutView",
            "align_content": null,
            "align_items": null,
            "align_self": null,
            "border": null,
            "bottom": null,
            "display": null,
            "flex": null,
            "flex_flow": null,
            "grid_area": null,
            "grid_auto_columns": null,
            "grid_auto_flow": null,
            "grid_auto_rows": null,
            "grid_column": null,
            "grid_gap": null,
            "grid_row": null,
            "grid_template_areas": null,
            "grid_template_columns": null,
            "grid_template_rows": null,
            "height": null,
            "justify_content": null,
            "justify_items": null,
            "left": null,
            "margin": null,
            "max_height": null,
            "max_width": null,
            "min_height": null,
            "min_width": null,
            "object_fit": null,
            "object_position": null,
            "order": null,
            "overflow": null,
            "overflow_x": null,
            "overflow_y": null,
            "padding": null,
            "right": null,
            "top": null,
            "visibility": null,
            "width": null
          }
        }
      }
    }
  },
  "nbformat": 4,
  "nbformat_minor": 5
}